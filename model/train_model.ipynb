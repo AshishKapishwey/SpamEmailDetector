{
 "cells": [
  {
   "cell_type": "markdown",
   "id": "6cfe90b9",
   "metadata": {},
   "source": [
    "# Spam Email Detector - Model Training\n",
    "This notebook trains a Naive Bayes model to classify emails as spam or not spam."
   ]
  },
  {
   "cell_type": "code",
   "execution_count": null,
   "id": "9ad6c26c",
   "metadata": {},
   "outputs": [],
   "source": [
    "import pandas as pd\n",
    "import pickle\n",
    "from sklearn.model_selection import train_test_split\n",
    "from sklearn.feature_extraction.text import CountVectorizer\n",
    "from sklearn.naive_bayes import MultinomialNB\n",
    "from sklearn.metrics import accuracy_score\n",
    "\n",
    "# Load dataset\n",
    "df = pd.read_csv(\"mail_data.csv\", encoding=\"latin-1\")\n",
    "\n",
    "# Convert labels to binary (0 = ham, 1 = spam)\n",
    "df[\"Category\"] = df[\"Category\"].map({\"ham\": 0, \"spam\": 1})\n",
    "X = df[\"Message\"]\n",
    "y = df[\"Category\"]\n",
    "\n",
    "# Split dataset\n",
    "X_train, X_test, y_train, y_test = train_test_split(X, y, test_size=0.2, random_state=42)"
   ]
  },
  {
   "cell_type": "code",
   "execution_count": null,
   "metadata": {},
   "outputs": [],
   "source": [
    "import pandas as pd\n",
    "import pickle\n",
    "from sklearn.model_selection import train_test_split\n",
    "from sklearn.feature_extraction.text import CountVectorizer\n",
    "from sklearn.naive_bayes import MultinomialNB\n",
    "from sklearn.metrics import accuracy_score\n",
    "\n",
    "# Load dataset\n",
    "df = pd.read_csv(\"mail_data.csv\", encoding=\"latin-1\")\n",
    "\n",
    "# Convert labels to binary (0 = ham, 1 = spam)\n",
    "df[\"Category\"] = df[\"Category\"].map({\"ham\": 0, \"spam\": 1})\n",
    "X = df[\"Message\"]\n",
    "y = df[\"Category\"]\n",
    "\n",
    "# Split dataset\n",
    "X_train, X_test, y_train, y_test = train_test_split(X, y, test_size=0.2, random_state=42)"
   ]
  },
  {
   "cell_type": "code",
   "execution_count": null,
   "id": "72450b7d",
   "metadata": {},
   "outputs": [],
   "source": [
    "# Vectorize text data\n",
    "vectorizer = CountVectorizer(stop_words=\"english\")\n",
    "X_train_vec = vectorizer.fit_transform(X_train)\n",
    "X_test_vec = vectorizer.transform(X_test)\n",
    "\n",
    "# Train Naive Bayes model\n",
    "model = MultinomialNB()\n",
    "model.fit(X_train_vec, y_train)\n",
    "\n",
    "# Evaluate model\n",
    "y_pred = model.predict(X_test_vec)\n",
    "accuracy = accuracy_score(y_test, y_pred)\n",
    "print(f\"Model Accuracy: {accuracy * 100:.2f}%\")"
   ]
  },
  {
   "cell_type": "code",
   "execution_count": null,
   "id": "7ca47e1b",
   "metadata": {},
   "outputs": [],
   "source": [
    "# Save model and vectorizer\n",
    "with open(\"spam_model.pkl\", \"wb\") as model_file:\n",
    "    pickle.dump(model, model_file)\n",
    "\n",
    "with open(\"vectorizer.pkl\", \"wb\") as vec_file:\n",
    "    pickle.dump(vectorizer, vec_file)\n",
    "\n",
    "print(\"Model and vectorizer saved successfully!\")"
   ]
  }
 ],
 "metadata": {
  "kernelspec": {
   "display_name": "Python 3",
   "language": "python",
   "name": "python3"
  },
  "language_info": {
   "codemirror_mode": {
    "name": "ipython",
    "version": 3
   },
   "file_extension": ".py",
   "mimetype": "text/x-python",
   "name": "python",
   "nbconvert_exporter": "python",
   "pygments_lexer": "ipython3",
   "version": "3.12.1"
  }
 },
 "nbformat": 4,
 "nbformat_minor": 5
}
